{
 "cells": [
  {
   "cell_type": "markdown",
   "id": "9e48b19a",
   "metadata": {},
   "source": [
    "### Working with Arrays and Arrays builtin Functions\n"
   ]
  },
  {
   "cell_type": "code",
   "execution_count": 1,
   "id": "083ea341",
   "metadata": {},
   "outputs": [
    {
     "name": "stdout",
     "output_type": "stream",
     "text": [
      "<class 'list'>\n"
     ]
    }
   ],
   "source": [
    "# Convention for importing numpy\n",
    "import numpy as np\n",
    "\n",
    "arr = [6,7,8,9]\n",
    "\n",
    "# this display the type of datastruture used\n",
    "print(type(arr))"
   ]
  },
  {
   "cell_type": "code",
   "execution_count": 4,
   "id": "3d541ca4",
   "metadata": {},
   "outputs": [
    {
     "name": "stdout",
     "output_type": "stream",
     "text": [
      "The datastruture is now  <class 'numpy.ndarray'>\n",
      "This is the shape of the array (4,)\n",
      "This the data type of the array  int64\n"
     ]
    }
   ],
   "source": [
    "# converting the list to a numpy array type\n",
    "# uising the np.array(list_object)\n",
    "a = np.array(arr)\n",
    "print('The datastruture is now ',type(a))\n",
    "print('This is the shape of the array', a.shape)\n",
    "print('This the data type of the array ',a.dtype)"
   ]
  },
  {
   "cell_type": "code",
   "execution_count": 5,
   "id": "f41c4fe0",
   "metadata": {},
   "outputs": [
    {
     "name": "stdout",
     "output_type": "stream",
     "text": [
      "This is the dimension of the array 1\n"
     ]
    }
   ],
   "source": [
    "# To the get the dimension of an array\n",
    "# use the ndim function\n",
    "\n",
    "print('This is the dimension of the array', a.ndim)"
   ]
  },
  {
   "cell_type": "code",
   "execution_count": 9,
   "id": "015d3bb1",
   "metadata": {},
   "outputs": [
    {
     "name": "stdout",
     "output_type": "stream",
     "text": [
      "This is my array \n",
      " [[1 2 3]\n",
      " [4 5 6]]\n",
      "\n",
      "\n",
      "this is the dimension of the array  2\n",
      "This is shape of the array (2, 3)\n"
     ]
    }
   ],
   "source": [
    "# creating another array\n",
    "b = np.array([[1,2,3],[4,5,6]])\n",
    "print('This is my array \\n',b)\n",
    "\n",
    "print('\\n')\n",
    "# checking the dimension array\n",
    "print('this is the dimension of the array ',b.ndim)\n",
    "\n",
    "print('This is shape of the array',b.shape)"
   ]
  },
  {
   "cell_type": "markdown",
   "id": "7bf78d02",
   "metadata": {},
   "source": [
    " There are also some inbuilt functions  that can be used  to initialize numpy which include empty(), zeroes, ones(), random.random()\n"
   ]
  },
  {
   "cell_type": "code",
   "execution_count": 10,
   "id": "c7c548ac",
   "metadata": {},
   "outputs": [
    {
     "data": {
      "text/plain": [
       "array([[0.84501027, 0.11659807, 0.71487495],\n",
       "       [0.7475634 , 0.62198521, 0.99350897]])"
      ]
     },
     "execution_count": 10,
     "metadata": {},
     "output_type": "execute_result"
    }
   ],
   "source": [
    "# a 2 by 3 array with random values\n",
    "np.random.random((2,3))\n"
   ]
  },
  {
   "cell_type": "code",
   "execution_count": 12,
   "id": "13c82e16",
   "metadata": {},
   "outputs": [
    {
     "data": {
      "text/plain": [
       "array([[0., 0., 0.],\n",
       "       [0., 0., 0.]])"
      ]
     },
     "execution_count": 12,
     "metadata": {},
     "output_type": "execute_result"
    }
   ],
   "source": [
    "np.zeros((2,3))"
   ]
  },
  {
   "cell_type": "code",
   "execution_count": 13,
   "id": "05562ff0",
   "metadata": {},
   "outputs": [
    {
     "data": {
      "text/plain": [
       "array([[1., 1., 1.],\n",
       "       [1., 1., 1.]])"
      ]
     },
     "execution_count": 13,
     "metadata": {},
     "output_type": "execute_result"
    }
   ],
   "source": [
    "np.ones((2,3))"
   ]
  },
  {
   "cell_type": "code",
   "execution_count": 14,
   "id": "0c6d585c",
   "metadata": {},
   "outputs": [
    {
     "data": {
      "text/plain": [
       "array([[1., 0., 0.],\n",
       "       [0., 1., 0.],\n",
       "       [0., 0., 1.]])"
      ]
     },
     "execution_count": 14,
     "metadata": {},
     "output_type": "execute_result"
    }
   ],
   "source": [
    "np.identity(3)"
   ]
  },
  {
   "cell_type": "markdown",
   "id": "feef85ce",
   "metadata": {},
   "source": [
    "#### Intra-operability of arrays and scalar"
   ]
  },
  {
   "cell_type": "code",
   "execution_count": 18,
   "id": "aa7b5e1b",
   "metadata": {},
   "outputs": [
    {
     "name": "stdout",
     "output_type": "stream",
     "text": [
      "adding the array \n",
      " [[13. 13. 13.]\n",
      " [10. 10. 10.]]\n",
      "multiply the array \n",
      " [[36. 40. 42.]\n",
      " [ 9. 16. 21.]]\n",
      "5 divided by array d \n",
      " [[1.25       1.         0.83333333]\n",
      " [0.55555556 0.625      0.71428571]]\n",
      "power of 2 for array c \n",
      " [[81. 64. 49.]\n",
      " [ 1.  4.  9.]]\n"
     ]
    }
   ],
   "source": [
    "c = np.array([[9.0,8.0,7.0],[1.0,2.0,3.0]])\n",
    "d = np.array([[4.0,5.0,6.0],[9.0,8.0,7.0]])\n",
    "\n",
    "e = c+d\n",
    "h = c*d\n",
    "g = 5 / d\n",
    "p = c ** 2\n",
    "print('adding the array \\n',e)\n",
    "print('multiply the array \\n', h)\n",
    "print('5 divided by array d \\n', g)\n",
    "print('power of 2 for array c \\n', p)\n"
   ]
  },
  {
   "cell_type": "code",
   "execution_count": 23,
   "id": "d55446d1",
   "metadata": {},
   "outputs": [
    {
     "data": {
      "text/plain": [
       "8"
      ]
     },
     "execution_count": 23,
     "metadata": {},
     "output_type": "execute_result"
    }
   ],
   "source": [
    "a[3]"
   ]
  },
  {
   "cell_type": "code",
   "execution_count": null,
   "id": "d8ea80d0",
   "metadata": {},
   "outputs": [],
   "source": []
  }
 ],
 "metadata": {
  "kernelspec": {
   "display_name": "Python 3",
   "language": "python",
   "name": "python3"
  },
  "language_info": {
   "codemirror_mode": {
    "name": "ipython",
    "version": 3
   },
   "file_extension": ".py",
   "mimetype": "text/x-python",
   "name": "python",
   "nbconvert_exporter": "python",
   "pygments_lexer": "ipython3",
   "version": "3.9.6"
  }
 },
 "nbformat": 4,
 "nbformat_minor": 5
}
