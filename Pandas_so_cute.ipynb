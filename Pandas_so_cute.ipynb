{
 "cells": [
  {
   "cell_type": "markdown",
   "id": "03d7c5e2",
   "metadata": {},
   "source": [
    "### Working with Pandas : An Introduction"
   ]
  },
  {
   "cell_type": "code",
   "execution_count": 1,
   "id": "0d57d58d",
   "metadata": {},
   "outputs": [],
   "source": [
    "#importing the require libraries\n",
    "import pandas as pd\n",
    "import numpy as np"
   ]
  },
  {
   "cell_type": "code",
   "execution_count": 2,
   "id": "2e25e8f3",
   "metadata": {},
   "outputs": [
    {
     "name": "stdout",
     "output_type": "stream",
     "text": [
      "0       Monday\n",
      "1      Tuesday\n",
      "2    Wednesday\n",
      "dtype: object\n"
     ]
    }
   ],
   "source": [
    "# to create a Series in pd just past a list\n",
    "# into the function pd.Series()\n",
    "days = pd.Series(['Monday', 'Tuesday', 'Wednesday'])\n",
    "print(days)"
   ]
  },
  {
   "cell_type": "markdown",
   "id": "96b32071",
   "metadata": {},
   "source": [
    "A series can only contain a single list and optional index "
   ]
  },
  {
   "cell_type": "code",
   "execution_count": 3,
   "id": "7caa4c71",
   "metadata": {},
   "outputs": [
    {
     "name": "stdout",
     "output_type": "stream",
     "text": [
      "0       Monday\n",
      "1      Tuesday\n",
      "2    Wednesday\n",
      "dtype: object\n"
     ]
    }
   ],
   "source": [
    "# creating a series with a numpy arra\n",
    "# you can pass a list \n",
    "days_list = np.array(['Monday', 'Tuesday', 'Wednesday'])\n",
    "numpy_days = pd.Series(days_list)\n",
    "print(numpy_days)"
   ]
  },
  {
   "cell_type": "code",
   "execution_count": 8,
   "id": "93c5ff00",
   "metadata": {},
   "outputs": [],
   "source": [
    "# Using strings as index\n",
    "# we can pass a list and it how we want it to be index into the Series function\n",
    "days = pd.Series(['Monday', 'Tuesdays', 'Wednesday'], index = ['a', 'b', 'c'])\n"
   ]
  },
  {
   "cell_type": "code",
   "execution_count": 9,
   "id": "5f3f3703",
   "metadata": {},
   "outputs": [
    {
     "name": "stdout",
     "output_type": "stream",
     "text": [
      "a       Monday\n",
      "b     Tuesdays\n",
      "c    Wednesday\n",
      "dtype: object\n"
     ]
    }
   ],
   "source": [
    "print(days)"
   ]
  },
  {
   "cell_type": "code",
   "execution_count": 5,
   "id": "2a70d7ad",
   "metadata": {},
   "outputs": [],
   "source": [
    "# create series from a dictionary\n",
    "# you can also past a dictionary to the series function\n",
    "# with the key use to index the array and also acess it element\n",
    "days1 = pd.Series({'a': 'Monday', 'b': 'Tuesday', 'c': 'Wednesday'})"
   ]
  },
  {
   "cell_type": "code",
   "execution_count": 11,
   "id": "795ae709",
   "metadata": {},
   "outputs": [
    {
     "name": "stdout",
     "output_type": "stream",
     "text": [
      "a       Monday\n",
      "b      Tuesday\n",
      "c    Wednesday\n",
      "dtype: object\n"
     ]
    }
   ],
   "source": [
    "print(days1)"
   ]
  },
  {
   "cell_type": "code",
   "execution_count": 12,
   "id": "7682320b",
   "metadata": {},
   "outputs": [
    {
     "data": {
      "text/plain": [
       "'Monday'"
      ]
     },
     "execution_count": 12,
     "metadata": {},
     "output_type": "execute_result"
    }
   ],
   "source": [
    "# Accessing Series\n",
    "# returns the first element\n",
    "days[0]"
   ]
  },
  {
   "cell_type": "code",
   "execution_count": 13,
   "id": "135e0b3b",
   "metadata": {},
   "outputs": [
    {
     "data": {
      "text/plain": [
       "b     Tuesdays\n",
       "c    Wednesday\n",
       "dtype: object"
      ]
     },
     "execution_count": 13,
     "metadata": {},
     "output_type": "execute_result"
    }
   ],
   "source": [
    "# from the second element til the end\n",
    "days[1:]"
   ]
  },
  {
   "cell_type": "code",
   "execution_count": 14,
   "id": "88e9d52c",
   "metadata": {},
   "outputs": [
    {
     "data": {
      "text/plain": [
       "'Wednesday'"
      ]
     },
     "execution_count": 14,
     "metadata": {},
     "output_type": "execute_result"
    }
   ],
   "source": [
    "# using the index of key to acces the data\n",
    "days['c']"
   ]
  },
  {
   "cell_type": "code",
   "execution_count": 15,
   "id": "c213a1a5",
   "metadata": {
    "scrolled": true
   },
   "outputs": [
    {
     "name": "stdout",
     "output_type": "stream",
     "text": [
      "Empty DataFrame\n",
      "Columns: []\n",
      "Index: []\n"
     ]
    }
   ],
   "source": [
    "print(pd.DataFrame())"
   ]
  },
  {
   "cell_type": "markdown",
   "id": "74cc34c3",
   "metadata": {},
   "source": [
    "### Create a DataFrame from a dictionary\n",
    "A dataframe is a collection of series\n"
   ]
  },
  {
   "cell_type": "code",
   "execution_count": 10,
   "id": "28be2162",
   "metadata": {},
   "outputs": [],
   "source": [
    "# create a dataframe from a dictionary\n",
    "# This is a dictionary with key values pairs\n",
    "df_dict = {'Country': ['Ghana', 'Kenya', 'Nigeria','Togo'],\n",
    "           'Capital': ['Accra', 'Nairobi', 'Abuja', 'Lome'],\n",
    "          'Population': [1000, 8500, 35000, 12000],\n",
    "          'Age': [60, 70, 80, 75]}"
   ]
  },
  {
   "cell_type": "code",
   "execution_count": 11,
   "id": "3b8bee10",
   "metadata": {},
   "outputs": [
    {
     "name": "stdout",
     "output_type": "stream",
     "text": [
      "{'Country': ['Ghana', 'Kenya', 'Nigeria', 'Togo'], 'Capital': ['Accra', 'Nairobi', 'Abuja', 'Lome'], 'Population': [1000, 8500, 35000, 12000], 'Age': [60, 70, 80, 75]}\n"
     ]
    }
   ],
   "source": [
    "print(df_dict)"
   ]
  },
  {
   "cell_type": "code",
   "execution_count": 12,
   "id": "606ba833",
   "metadata": {},
   "outputs": [
    {
     "data": {
      "text/plain": [
       "['Ghana', 'Kenya', 'Nigeria', 'Togo']"
      ]
     },
     "execution_count": 12,
     "metadata": {},
     "output_type": "execute_result"
    }
   ],
   "source": [
    "df_dict['Country'\n",
    "]"
   ]
  },
  {
   "cell_type": "code",
   "execution_count": 36,
   "id": "47859203",
   "metadata": {},
   "outputs": [],
   "source": [
    "# converting the dictionary to dataframe\n",
    "# passing the dictionary and the index\n",
    "\n",
    "df = pd.DataFrame(df_dict, index=[2, 4, 6, 8])\n"
   ]
  },
  {
   "cell_type": "markdown",
   "id": "8c17eafd",
   "metadata": {},
   "source": [
    "The index can also be refer to as the label i.e you can specify how you want your data to be label."
   ]
  },
  {
   "cell_type": "code",
   "execution_count": 37,
   "id": "61764c32",
   "metadata": {},
   "outputs": [
    {
     "data": {
      "text/html": [
       "<div>\n",
       "<style scoped>\n",
       "    .dataframe tbody tr th:only-of-type {\n",
       "        vertical-align: middle;\n",
       "    }\n",
       "\n",
       "    .dataframe tbody tr th {\n",
       "        vertical-align: top;\n",
       "    }\n",
       "\n",
       "    .dataframe thead th {\n",
       "        text-align: right;\n",
       "    }\n",
       "</style>\n",
       "<table border=\"1\" class=\"dataframe\">\n",
       "  <thead>\n",
       "    <tr style=\"text-align: right;\">\n",
       "      <th></th>\n",
       "      <th>Country</th>\n",
       "      <th>Capital</th>\n",
       "      <th>Population</th>\n",
       "      <th>Age</th>\n",
       "    </tr>\n",
       "  </thead>\n",
       "  <tbody>\n",
       "    <tr>\n",
       "      <th>2</th>\n",
       "      <td>Ghana</td>\n",
       "      <td>Accra</td>\n",
       "      <td>1000</td>\n",
       "      <td>60</td>\n",
       "    </tr>\n",
       "    <tr>\n",
       "      <th>4</th>\n",
       "      <td>Kenya</td>\n",
       "      <td>Nairobi</td>\n",
       "      <td>8500</td>\n",
       "      <td>70</td>\n",
       "    </tr>\n",
       "    <tr>\n",
       "      <th>6</th>\n",
       "      <td>Nigeria</td>\n",
       "      <td>Abuja</td>\n",
       "      <td>35000</td>\n",
       "      <td>80</td>\n",
       "    </tr>\n",
       "    <tr>\n",
       "      <th>8</th>\n",
       "      <td>Togo</td>\n",
       "      <td>Lome</td>\n",
       "      <td>12000</td>\n",
       "      <td>75</td>\n",
       "    </tr>\n",
       "  </tbody>\n",
       "</table>\n",
       "</div>"
      ],
      "text/plain": [
       "   Country  Capital  Population  Age\n",
       "2    Ghana    Accra        1000   60\n",
       "4    Kenya  Nairobi        8500   70\n",
       "6  Nigeria    Abuja       35000   80\n",
       "8     Togo     Lome       12000   75"
      ]
     },
     "execution_count": 37,
     "metadata": {},
     "output_type": "execute_result"
    }
   ],
   "source": [
    "# putting it in a dataframe : a nicely and neat formatted out put\n",
    "df"
   ]
  },
  {
   "cell_type": "markdown",
   "id": "21f2029b",
   "metadata": {},
   "source": [
    "## Using iloc and loc to selecting dataframe element\n",
    "iloc select values from row and column using integer index to locate position\n",
    "loc on the other hand selects rows and columns using labels.\n",
    "at and iat are used to retrieve single values such that at uses the column and row label and iat uses indices"
   ]
  },
  {
   "cell_type": "markdown",
   "id": "fc38a216",
   "metadata": {},
   "source": [
    "#### Selecting Data Across rows\n",
    "_to select data across row : use labels or index  to get the select row_\n"
   ]
  },
  {
   "cell_type": "code",
   "execution_count": 38,
   "id": "c062d304",
   "metadata": {},
   "outputs": [],
   "source": [
    "# select the row in the at ind"
   ]
  },
  {
   "cell_type": "code",
   "execution_count": 41,
   "id": "4237ebac",
   "metadata": {},
   "outputs": [
    {
     "data": {
      "text/plain": [
       "Country        Togo\n",
       "Capital        Lome\n",
       "Population    12000\n",
       "Age              75\n",
       "Name: 8, dtype: object"
      ]
     },
     "execution_count": 41,
     "metadata": {},
     "output_type": "execute_result"
    }
   ],
   "source": [
    "df.loc[8]"
   ]
  },
  {
   "cell_type": "markdown",
   "id": "0be5d8f8",
   "metadata": {},
   "source": [
    "#### Selecting Data across column"
   ]
  },
  {
   "cell_type": "code",
   "execution_count": 42,
   "id": "b1e89be1",
   "metadata": {},
   "outputs": [
    {
     "data": {
      "text/plain": [
       "2      Accra\n",
       "4    Nairobi\n",
       "6      Abuja\n",
       "8       Lome\n",
       "Name: Capital, dtype: object"
      ]
     },
     "execution_count": 42,
     "metadata": {},
     "output_type": "execute_result"
    }
   ],
   "source": [
    "# select the capital column\n",
    "df['Capital']"
   ]
  },
  {
   "cell_type": "code",
   "execution_count": 43,
   "id": "ac9442cd",
   "metadata": {},
   "outputs": [
    {
     "data": {
      "text/html": [
       "<div>\n",
       "<style scoped>\n",
       "    .dataframe tbody tr th:only-of-type {\n",
       "        vertical-align: middle;\n",
       "    }\n",
       "\n",
       "    .dataframe tbody tr th {\n",
       "        vertical-align: top;\n",
       "    }\n",
       "\n",
       "    .dataframe thead th {\n",
       "        text-align: right;\n",
       "    }\n",
       "</style>\n",
       "<table border=\"1\" class=\"dataframe\">\n",
       "  <thead>\n",
       "    <tr style=\"text-align: right;\">\n",
       "      <th></th>\n",
       "      <th>Capital</th>\n",
       "      <th>Population</th>\n",
       "    </tr>\n",
       "  </thead>\n",
       "  <tbody>\n",
       "    <tr>\n",
       "      <th>2</th>\n",
       "      <td>Accra</td>\n",
       "      <td>1000</td>\n",
       "    </tr>\n",
       "    <tr>\n",
       "      <th>4</th>\n",
       "      <td>Nairobi</td>\n",
       "      <td>8500</td>\n",
       "    </tr>\n",
       "    <tr>\n",
       "      <th>6</th>\n",
       "      <td>Abuja</td>\n",
       "      <td>35000</td>\n",
       "    </tr>\n",
       "    <tr>\n",
       "      <th>8</th>\n",
       "      <td>Lome</td>\n",
       "      <td>12000</td>\n",
       "    </tr>\n",
       "  </tbody>\n",
       "</table>\n",
       "</div>"
      ],
      "text/plain": [
       "   Capital  Population\n",
       "2    Accra        1000\n",
       "4  Nairobi        8500\n",
       "6    Abuja       35000\n",
       "8     Lome       12000"
      ]
     },
     "execution_count": 43,
     "metadata": {},
     "output_type": "execute_result"
    }
   ],
   "source": [
    "df[['Capital', 'Population']]"
   ]
  },
  {
   "cell_type": "code",
   "execution_count": 44,
   "id": "9ff6769f",
   "metadata": {},
   "outputs": [
    {
     "data": {
      "text/plain": [
       "'Nigeria'"
      ]
     },
     "execution_count": 44,
     "metadata": {},
     "output_type": "execute_result"
    }
   ],
   "source": [
    "# returning a specific data in colunm\n",
    "df.at[6, 'Country']"
   ]
  },
  {
   "cell_type": "code",
   "execution_count": 45,
   "id": "d8cfd70e",
   "metadata": {},
   "outputs": [
    {
     "data": {
      "text/plain": [
       "'Nigeria'"
      ]
     },
     "execution_count": 45,
     "metadata": {},
     "output_type": "execute_result"
    }
   ],
   "source": [
    "df.iat[2,0]"
   ]
  },
  {
   "cell_type": "markdown",
   "id": "8a2ab371",
   "metadata": {},
   "source": [
    "### Performing Summary Statistics on the column data\n",
    "\n"
   ]
  },
  {
   "cell_type": "code",
   "execution_count": 46,
   "id": "ad407df0",
   "metadata": {},
   "outputs": [
    {
     "data": {
      "text/plain": [
       "56500"
      ]
     },
     "execution_count": 46,
     "metadata": {},
     "output_type": "execute_result"
    }
   ],
   "source": [
    "# this gives the sum of the population\n",
    "df['Population'].sum()"
   ]
  },
  {
   "cell_type": "code",
   "execution_count": 48,
   "id": "6ec1bd18",
   "metadata": {},
   "outputs": [
    {
     "data": {
      "text/plain": [
       "Population    14125.00\n",
       "Age              71.25\n",
       "dtype: float64"
      ]
     },
     "execution_count": 48,
     "metadata": {},
     "output_type": "execute_result"
    }
   ],
   "source": [
    "df[['Population', 'Age']].mean()"
   ]
  },
  {
   "cell_type": "code",
   "execution_count": 49,
   "id": "21bdea5a",
   "metadata": {},
   "outputs": [
    {
     "data": {
      "text/html": [
       "<div>\n",
       "<style scoped>\n",
       "    .dataframe tbody tr th:only-of-type {\n",
       "        vertical-align: middle;\n",
       "    }\n",
       "\n",
       "    .dataframe tbody tr th {\n",
       "        vertical-align: top;\n",
       "    }\n",
       "\n",
       "    .dataframe thead th {\n",
       "        text-align: right;\n",
       "    }\n",
       "</style>\n",
       "<table border=\"1\" class=\"dataframe\">\n",
       "  <thead>\n",
       "    <tr style=\"text-align: right;\">\n",
       "      <th></th>\n",
       "      <th>Population</th>\n",
       "      <th>Age</th>\n",
       "    </tr>\n",
       "  </thead>\n",
       "  <tbody>\n",
       "    <tr>\n",
       "      <th>count</th>\n",
       "      <td>4.000000</td>\n",
       "      <td>4.000000</td>\n",
       "    </tr>\n",
       "    <tr>\n",
       "      <th>mean</th>\n",
       "      <td>14125.000000</td>\n",
       "      <td>71.250000</td>\n",
       "    </tr>\n",
       "    <tr>\n",
       "      <th>std</th>\n",
       "      <td>14653.640048</td>\n",
       "      <td>8.539126</td>\n",
       "    </tr>\n",
       "    <tr>\n",
       "      <th>min</th>\n",
       "      <td>1000.000000</td>\n",
       "      <td>60.000000</td>\n",
       "    </tr>\n",
       "    <tr>\n",
       "      <th>25%</th>\n",
       "      <td>6625.000000</td>\n",
       "      <td>67.500000</td>\n",
       "    </tr>\n",
       "    <tr>\n",
       "      <th>50%</th>\n",
       "      <td>10250.000000</td>\n",
       "      <td>72.500000</td>\n",
       "    </tr>\n",
       "    <tr>\n",
       "      <th>75%</th>\n",
       "      <td>17750.000000</td>\n",
       "      <td>76.250000</td>\n",
       "    </tr>\n",
       "    <tr>\n",
       "      <th>max</th>\n",
       "      <td>35000.000000</td>\n",
       "      <td>80.000000</td>\n",
       "    </tr>\n",
       "  </tbody>\n",
       "</table>\n",
       "</div>"
      ],
      "text/plain": [
       "         Population        Age\n",
       "count      4.000000   4.000000\n",
       "mean   14125.000000  71.250000\n",
       "std    14653.640048   8.539126\n",
       "min     1000.000000  60.000000\n",
       "25%     6625.000000  67.500000\n",
       "50%    10250.000000  72.500000\n",
       "75%    17750.000000  76.250000\n",
       "max    35000.000000  80.000000"
      ]
     },
     "execution_count": 49,
     "metadata": {},
     "output_type": "execute_result"
    }
   ],
   "source": [
    "# Summary statistics for numerical data\n",
    "df.describe()"
   ]
  },
  {
   "cell_type": "code",
   "execution_count": null,
   "id": "735989ed",
   "metadata": {},
   "outputs": [],
   "source": []
  }
 ],
 "metadata": {
  "kernelspec": {
   "display_name": "Python 3",
   "language": "python",
   "name": "python3"
  },
  "language_info": {
   "codemirror_mode": {
    "name": "ipython",
    "version": 3
   },
   "file_extension": ".py",
   "mimetype": "text/x-python",
   "name": "python",
   "nbconvert_exporter": "python",
   "pygments_lexer": "ipython3",
   "version": "3.9.6"
  }
 },
 "nbformat": 4,
 "nbformat_minor": 5
}
